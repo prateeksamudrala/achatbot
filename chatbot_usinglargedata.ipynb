{
 "cells": [
  {
   "cell_type": "markdown",
   "id": "3503c681",
   "metadata": {},
   "source": [
    "# Loading, Extracting and Cleaning Data"
   ]
  },
  {
   "cell_type": "code",
   "execution_count": 11,
   "id": "043b213c",
   "metadata": {},
   "outputs": [],
   "source": [
    "# Importing necessary libraries\n",
    "\n",
    "import numpy as np\n",
    "import json\n",
    "import re\n",
    "import tensorflow as tf\n",
    "import random\n",
    "import spacy\n",
    "nlp = spacy.load('en_core_web_sm')\n"
   ]
  },
  {
   "cell_type": "code",
   "execution_count": 12,
   "id": "b24304de",
   "metadata": {},
   "outputs": [],
   "source": [
    "# load file\n",
    "with open('Intents_bigfile.json') as f:\n",
    "    intents = json.load(f)"
   ]
  },
  {
   "cell_type": "code",
   "execution_count": 13,
   "id": "8e57c273",
   "metadata": {},
   "outputs": [],
   "source": [
    "# preprocessing function\n",
    "def preprocessing(line):\n",
    "    line = re.sub(r'[^a-zA-z.?!\\']', ' ', line)\n",
    "    line = re.sub(r'[ ]+', ' ', line)\n",
    "    return line"
   ]
  },
  {
   "cell_type": "code",
   "execution_count": 14,
   "id": "c8f80aaf",
   "metadata": {},
   "outputs": [],
   "source": [
    "# extracting intent, text and response data after using the preprocessing function\n",
    "\n",
    "inputs, targets = [], []\n",
    "classes = []\n",
    "intent_doc = {}\n",
    "\n",
    "for intent in intents['intents']:\n",
    "    if intent['intent'] not in classes:\n",
    "        classes.append(intent['intent'])\n",
    "    if intent['intent'] not in intent_doc:\n",
    "        intent_doc[intent['intent']] = []\n",
    "        \n",
    "    for text in intent['text']:\n",
    "        inputs.append(preprocessing(text))\n",
    "        targets.append(intent['intent'])\n",
    "        \n",
    "    for response in intent['responses']:\n",
    "        intent_doc[intent['intent']].append(response)"
   ]
  },
  {
   "cell_type": "markdown",
   "id": "d3f9fe30",
   "metadata": {},
   "source": [
    "# Tokenizing input data and creating categorical targets"
   ]
  },
  {
   "cell_type": "code",
   "execution_count": 16,
   "id": "b3cfb344",
   "metadata": {},
   "outputs": [],
   "source": [
    "# Tokenization is a method to segregate a particular text into small chunks or tokens. \n",
    "# Here the tokens or chunks can be anything from words to characters, even subwords.\n",
    "def tokenize_data(input_list):\n",
    "    tokenizer = tf.keras.preprocessing.text.Tokenizer(filters='', oov_token='<unk>')\n",
    "    \n",
    "    tokenizer.fit_on_texts(input_list)\n",
    "    \n",
    "    input_seq = tokenizer.texts_to_sequences(input_list)\n",
    "\n",
    "    input_seq = tf.keras.preprocessing.sequence.pad_sequences(input_seq, padding='pre')\n",
    "    \n",
    "    return tokenizer, input_seq"
   ]
  },
  {
   "cell_type": "code",
   "execution_count": 17,
   "id": "1a8cd24d",
   "metadata": {},
   "outputs": [],
   "source": [
    "# tokenize input data\n",
    "tokenizer, input_tensor = tokenize_data(inputs)"
   ]
  },
  {
   "cell_type": "code",
   "execution_count": 18,
   "id": "eea33f23",
   "metadata": {},
   "outputs": [],
   "source": [
    "def create_categorical_target(targets):\n",
    "    word={}\n",
    "    categorical_target=[]\n",
    "    counter=0\n",
    "    for trg in targets:\n",
    "        if trg not in word:\n",
    "            word[trg]=counter\n",
    "            counter+=1\n",
    "        categorical_target.append(word[trg])\n",
    "    \n",
    "    categorical_tensor = tf.keras.utils.to_categorical(categorical_target, num_classes=len(word), dtype='int32')\n",
    "    return categorical_tensor, dict((v,k) for k, v in word.items())"
   ]
  },
  {
   "cell_type": "code",
   "execution_count": 19,
   "id": "b7f3c397",
   "metadata": {},
   "outputs": [],
   "source": [
    "# categorical target output data\n",
    "\n",
    "target_tensor, trg_index_word = create_categorical_target(targets)"
   ]
  },
  {
   "cell_type": "code",
   "execution_count": 20,
   "id": "076e87a6",
   "metadata": {},
   "outputs": [
    {
     "name": "stdout",
     "output_type": "stream",
     "text": [
      "input shape: (143, 9) and output shape: (143, 22)\n"
     ]
    }
   ],
   "source": [
    "# How does our input and output look?\n",
    "print('input shape: {} and output shape: {}'.format(input_tensor.shape, target_tensor.shape))\n"
   ]
  },
  {
   "cell_type": "markdown",
   "id": "03ffde56",
   "metadata": {},
   "source": [
    "# Building model\n"
   ]
  },
  {
   "cell_type": "code",
   "execution_count": 22,
   "id": "f8418d86",
   "metadata": {},
   "outputs": [],
   "source": [
    "# hyperparameters\n",
    "epochs=60\n",
    "vocab_size=len(tokenizer.word_index) + 1\n",
    "embed_dim=512\n",
    "units=128\n",
    "target_length=target_tensor.shape[1]"
   ]
  },
  {
   "cell_type": "code",
   "execution_count": 24,
   "id": "1add57e8",
   "metadata": {},
   "outputs": [
    {
     "name": "stdout",
     "output_type": "stream",
     "text": [
      "Model: \"sequential_1\"\n",
      "_________________________________________________________________\n",
      " Layer (type)                Output Shape              Param #   \n",
      "=================================================================\n",
      " embedding_1 (Embedding)     (None, None, 512)         66048     \n",
      "                                                                 \n",
      " bidirectional_1 (Bidirectio  (None, 256)              656384    \n",
      " nal)                                                            \n",
      "                                                                 \n",
      " dense_2 (Dense)             (None, 128)               32896     \n",
      "                                                                 \n",
      " dropout_1 (Dropout)         (None, 128)               0         \n",
      "                                                                 \n",
      " dense_3 (Dense)             (None, 22)                2838      \n",
      "                                                                 \n",
      "=================================================================\n",
      "Total params: 758,166\n",
      "Trainable params: 758,166\n",
      "Non-trainable params: 0\n",
      "_________________________________________________________________\n"
     ]
    }
   ],
   "source": [
    "# Recurrent Neural Network with Tensor flow\n",
    "\n",
    "model = tf.keras.models.Sequential([\n",
    "    tf.keras.layers.Embedding(vocab_size, embed_dim),\n",
    "    tf.keras.layers.Bidirectional(tf.keras.layers.LSTM(units, dropout=0.2)),\n",
    "    tf.keras.layers.Dense(units, activation='relu'),\n",
    "    tf.keras.layers.Dropout(0.5),\n",
    "    tf.keras.layers.Dense(target_length, activation='softmax')\n",
    "])\n",
    "\n",
    "optimizer = tf.keras.optimizers.Adam(learning_rate=1e-2)\n",
    "model.compile(optimizer=optimizer, loss='categorical_crossentropy', metrics=['accuracy'])\n",
    "model.summary()"
   ]
  },
  {
   "cell_type": "code",
   "execution_count": 25,
   "id": "d881cd68",
   "metadata": {},
   "outputs": [],
   "source": [
    "early_stop = tf.keras.callbacks.EarlyStopping(monitor='loss', patience=4)\n"
   ]
  },
  {
   "cell_type": "code",
   "execution_count": 26,
   "id": "2ed1700b",
   "metadata": {},
   "outputs": [
    {
     "name": "stdout",
     "output_type": "stream",
     "text": [
      "Epoch 1/60\n",
      "5/5 [==============================] - 2s 19ms/step - loss: 3.1235 - accuracy: 0.0559\n",
      "Epoch 2/60\n",
      "5/5 [==============================] - 0s 19ms/step - loss: 2.7476 - accuracy: 0.2937\n",
      "Epoch 3/60\n",
      "5/5 [==============================] - 0s 19ms/step - loss: 1.9312 - accuracy: 0.4545\n",
      "Epoch 4/60\n",
      "5/5 [==============================] - 0s 20ms/step - loss: 0.9627 - accuracy: 0.7063\n",
      "Epoch 5/60\n",
      "5/5 [==============================] - 0s 19ms/step - loss: 0.7083 - accuracy: 0.8112\n",
      "Epoch 6/60\n",
      "5/5 [==============================] - 0s 20ms/step - loss: 0.2609 - accuracy: 0.9441\n",
      "Epoch 7/60\n",
      "5/5 [==============================] - 0s 19ms/step - loss: 0.1379 - accuracy: 0.9510\n",
      "Epoch 8/60\n",
      "5/5 [==============================] - 0s 18ms/step - loss: 0.1093 - accuracy: 0.9580\n",
      "Epoch 9/60\n",
      "5/5 [==============================] - 0s 18ms/step - loss: 0.0392 - accuracy: 0.9930\n",
      "Epoch 10/60\n",
      "5/5 [==============================] - 0s 17ms/step - loss: 0.0618 - accuracy: 0.9860\n",
      "Epoch 11/60\n",
      "5/5 [==============================] - 0s 17ms/step - loss: 0.0431 - accuracy: 0.9860\n",
      "Epoch 12/60\n",
      "5/5 [==============================] - 0s 17ms/step - loss: 0.0409 - accuracy: 0.9720\n",
      "Epoch 13/60\n",
      "5/5 [==============================] - 0s 17ms/step - loss: 0.0291 - accuracy: 0.9930\n",
      "Epoch 14/60\n",
      "5/5 [==============================] - 0s 19ms/step - loss: 0.0311 - accuracy: 0.9860\n",
      "Epoch 15/60\n",
      "5/5 [==============================] - 0s 18ms/step - loss: 0.0163 - accuracy: 0.9930\n",
      "Epoch 16/60\n",
      "5/5 [==============================] - 0s 19ms/step - loss: 0.0153 - accuracy: 0.9930\n",
      "Epoch 17/60\n",
      "5/5 [==============================] - 0s 18ms/step - loss: 0.0022 - accuracy: 1.0000\n",
      "Epoch 18/60\n",
      "5/5 [==============================] - 0s 18ms/step - loss: 0.0060 - accuracy: 1.0000\n",
      "Epoch 19/60\n",
      "5/5 [==============================] - 0s 18ms/step - loss: 0.0022 - accuracy: 1.0000\n",
      "Epoch 20/60\n",
      "5/5 [==============================] - 0s 16ms/step - loss: 0.0181 - accuracy: 0.9930\n",
      "Epoch 21/60\n",
      "5/5 [==============================] - 0s 18ms/step - loss: 0.0033 - accuracy: 1.0000\n",
      "Epoch 22/60\n",
      "5/5 [==============================] - 0s 17ms/step - loss: 0.0049 - accuracy: 1.0000\n",
      "Epoch 23/60\n",
      "5/5 [==============================] - 0s 20ms/step - loss: 0.0117 - accuracy: 0.9930\n"
     ]
    },
    {
     "data": {
      "text/plain": [
       "<keras.callbacks.History at 0x1d8ba42c970>"
      ]
     },
     "execution_count": 26,
     "metadata": {},
     "output_type": "execute_result"
    }
   ],
   "source": [
    "# Training\n",
    "model.fit(input_tensor, target_tensor, epochs=epochs, callbacks=[early_stop])\n"
   ]
  },
  {
   "cell_type": "markdown",
   "id": "67e6685c",
   "metadata": {},
   "source": [
    "# The Chat Bot"
   ]
  },
  {
   "cell_type": "code",
   "execution_count": 27,
   "id": "3e98f5aa",
   "metadata": {},
   "outputs": [],
   "source": [
    "# response function\n",
    "def response(sentence):\n",
    "    sent_seq = []\n",
    "    doc = nlp(repr(sentence))\n",
    "    \n",
    "    # split the input sentences into words\n",
    "    for token in doc:\n",
    "        if token.text in tokenizer.word_index:\n",
    "            sent_seq.append(tokenizer.word_index[token.text])\n",
    "\n",
    "        # handle the unknown words error\n",
    "        else:\n",
    "            sent_seq.append(tokenizer.word_index['<unk>'])\n",
    "\n",
    "    sent_seq = tf.expand_dims(sent_seq, 0)\n",
    "    # predict the category of input sentences\n",
    "    pred = model(sent_seq)\n",
    "\n",
    "    pred_class = np.argmax(pred.numpy(), axis=1)\n",
    "    \n",
    "    # choice a random response for predicted sentence\n",
    "    return random.choice(intent_doc[trg_index_word[pred_class[0]]]), trg_index_word[pred_class[0]]"
   ]
  },
  {
   "cell_type": "code",
   "execution_count": null,
   "id": "34a2fa7a",
   "metadata": {},
   "outputs": [
    {
     "name": "stdout",
     "output_type": "stream",
     "text": [
      "Note: Enter 'quit' to break the loop.\n",
      "You: hi\n",
      "Bot: Hello, I am great, how are you? Please tell me your GeniSys user \n",
      "\n"
     ]
    }
   ],
   "source": [
    "# Bot function\n",
    "\n",
    "print(\"Note: Enter 'quit' to break the loop.\")\n",
    "while True:\n",
    "    input_ = input('You: ')\n",
    "    if input_.lower() == 'quit':\n",
    "        break\n",
    "    res, typ = response(input_)\n",
    "    print('Bot: {} '.format(res))\n",
    "    print()"
   ]
  },
  {
   "cell_type": "code",
   "execution_count": null,
   "id": "5e2dd59b",
   "metadata": {},
   "outputs": [],
   "source": []
  }
 ],
 "metadata": {
  "kernelspec": {
   "display_name": "Python 3 (ipykernel)",
   "language": "python",
   "name": "python3"
  },
  "language_info": {
   "codemirror_mode": {
    "name": "ipython",
    "version": 3
   },
   "file_extension": ".py",
   "mimetype": "text/x-python",
   "name": "python",
   "nbconvert_exporter": "python",
   "pygments_lexer": "ipython3",
   "version": "3.8.13"
  }
 },
 "nbformat": 4,
 "nbformat_minor": 5
}
